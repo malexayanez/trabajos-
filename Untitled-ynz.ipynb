{
 "cells": [
  {
   "cell_type": "code",
   "execution_count": 13,
   "metadata": {},
   "outputs": [
    {
     "name": "stdout",
     "output_type": "stream",
     "text": [
      "{'nombre': 'malexa', 'matricula': 231690473, 'Edad': 18, 'peso': 57, 'telefono': 3111082629, 'carrera': 'CDIA', 'Domicilio': 'colonia nayrit 11'}\n",
      "nombre malexa\n",
      "matricula 231690473\n",
      "Edad 18\n",
      "peso 57\n",
      "telefono 3111082629\n",
      "carrera CDIA\n",
      "Domicilio colonia nayrit 11\n",
      "el alumno malexa es gay\n",
      "el es de la carrera CDIA puede ser que sea gay\n"
     ]
    }
   ],
   "source": [
    "datos_personales={\n",
    "  \"nombre\":\"malexa\",\n",
    "   \"matricula\":231690481-8,\n",
    "   \"Edad\":18,\n",
    "   \"peso\":57,\n",
    "   \"telefono\":3111082629,\n",
    "   \"carrera\": \"CDIA\",\n",
    "   \"Domicilio\":\"colonia nayrit 11\"\n",
    "}\n",
    "\n",
    "print(datos_personales)\n",
    "for x in datos_personales:\n",
    "     print (x,datos_personales[x])\n",
    "\n",
    "print (\"el alumno\",(datos_personales)[\"nombre\"], \"es gay\" )\n",
    "print (\"el es de la carrera\", datos_personales ['carrera'], \"puede ser que sea gay\")"
   ]
  }
 ],
 "metadata": {
  "kernelspec": {
   "display_name": "base",
   "language": "python",
   "name": "python3"
  },
  "language_info": {
   "codemirror_mode": {
    "name": "ipython",
    "version": 3
   },
   "file_extension": ".py",
   "mimetype": "text/x-python",
   "name": "python",
   "nbconvert_exporter": "python",
   "pygments_lexer": "ipython3",
   "version": "3.12.4"
  }
 },
 "nbformat": 4,
 "nbformat_minor": 2
}
