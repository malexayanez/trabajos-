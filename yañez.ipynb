{
 "cells": [
  {
   "cell_type": "code",
   "execution_count": 4,
   "metadata": {},
   "outputs": [
    {
     "name": "stdout",
     "output_type": "stream",
     "text": [
      "El area del triangulo es: 220.0\n"
     ]
    }
   ],
   "source": [
    "class area():\n",
    "\n",
    "  def datos (self):\n",
    "    self.h = float(input())\n",
    "    self.b = float(input())\n",
    "\n",
    "  def area_triangulo(self):\n",
    "    return (self.h * self.b)/2\n",
    "\n",
    "  def pro (self):\n",
    "    self.datos()\n",
    "    A = self.area_triangulo()\n",
    "    print(f\"El area del triangulo es: {A}\")\n",
    "\n",
    "ar = area()\n",
    "ar.pro()\n"
   ]
  },
  {
   "cell_type": "code",
   "execution_count": null,
   "metadata": {},
   "outputs": [],
   "source": []
  }
 ],
 "metadata": {
  "kernelspec": {
   "display_name": "base",
   "language": "python",
   "name": "python3"
  },
  "language_info": {
   "codemirror_mode": {
    "name": "ipython",
    "version": 3
   },
   "file_extension": ".py",
   "mimetype": "text/x-python",
   "name": "python",
   "nbconvert_exporter": "python",
   "pygments_lexer": "ipython3",
   "version": "3.12.4"
  }
 },
 "nbformat": 4,
 "nbformat_minor": 2
}
