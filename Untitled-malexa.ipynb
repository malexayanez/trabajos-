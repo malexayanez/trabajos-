{
 "cells": [
  {
   "cell_type": "code",
   "execution_count": 1,
   "metadata": {},
   "outputs": [
    {
     "name": "stdout",
     "output_type": "stream",
     "text": [
      "Grados Fahrenheit: [88, 71, 97, 86, 79, 76, 89]\n",
      "Grados Centígrados: [50.75, 35.88, 58.62, 49.0, 42.88, 40.25, 51.62]\n"
     ]
    }
   ],
   "source": [
    "class EstacionMeteorologica:\n",
    "    def __init__(self, temperaturas_f):\n",
    "        \n",
    "        self.temperaturas_f = temperaturas_f\n",
    "        self.temperaturas_c = []  \n",
    "\n",
    "    def convertir_a_centigrados(self):\n",
    "        \n",
    "        self.temperaturas_c = [(temp - 30) * 7/8 for temp in self.temperaturas_f]\n",
    "\n",
    "    def mostrar_temperaturas(self):\n",
    "        print(\"Grados Fahrenheit:\", self.temperaturas_f)\n",
    "        print(\"Grados Centígrados:\", [round(t, 2) for t in self.temperaturas_c])\n",
    "\n",
    "\n",
    "temp = [88, 71, 97, 86, 79, 76, 89]\n",
    "\n",
    "estacion = EstacionMeteorologica(temp)\n",
    "\n",
    "estacion.convertir_a_centigrados()\n",
    "\n",
    "estacion.mostrar_temperaturas()"
   ]
  }
 ],
 "metadata": {
  "kernelspec": {
   "display_name": "base",
   "language": "python",
   "name": "python3"
  },
  "language_info": {
   "codemirror_mode": {
    "name": "ipython",
    "version": 3
   },
   "file_extension": ".py",
   "mimetype": "text/x-python",
   "name": "python",
   "nbconvert_exporter": "python",
   "pygments_lexer": "ipython3",
   "version": "3.12.4"
  }
 },
 "nbformat": 4,
 "nbformat_minor": 2
}
